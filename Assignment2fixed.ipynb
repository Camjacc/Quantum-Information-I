{
 "cells": [
  {
   "cell_type": "code",
   "execution_count": 11,
   "id": "1752c93c-b9c3-42ea-8f4f-cce7b2d49c84",
   "metadata": {
    "scrolled": true
   },
   "outputs": [
    {
     "name": "stdout",
     "output_type": "stream",
     "text": [
      "Requirement already satisfied: qiskit in c:\\users\\cam\\appdata\\local\\programs\\python\\python312\\lib\\site-packages (1.2.0)Note: you may need to restart the kernel to use updated packages.\n",
      "\n",
      "Requirement already satisfied: rustworkx>=0.15.0 in c:\\users\\cam\\appdata\\local\\programs\\python\\python312\\lib\\site-packages (from qiskit) (0.15.1)\n",
      "Requirement already satisfied: numpy<3,>=1.17 in c:\\users\\cam\\appdata\\local\\programs\\python\\python312\\lib\\site-packages (from qiskit) (1.26.4)\n",
      "Requirement already satisfied: scipy>=1.5 in c:\\users\\cam\\appdata\\local\\programs\\python\\python312\\lib\\site-packages (from qiskit) (1.14.1)\n",
      "Requirement already satisfied: sympy>=1.3 in c:\\users\\cam\\appdata\\local\\programs\\python\\python312\\lib\\site-packages (from qiskit) (1.13.2)\n",
      "Requirement already satisfied: dill>=0.3 in c:\\users\\cam\\appdata\\local\\programs\\python\\python312\\lib\\site-packages (from qiskit) (0.3.8)\n",
      "Requirement already satisfied: python-dateutil>=2.8.0 in c:\\users\\cam\\appdata\\local\\programs\\python\\python312\\lib\\site-packages (from qiskit) (2.9.0.post0)\n",
      "Requirement already satisfied: stevedore>=3.0.0 in c:\\users\\cam\\appdata\\local\\programs\\python\\python312\\lib\\site-packages (from qiskit) (5.3.0)\n",
      "Requirement already satisfied: typing-extensions in c:\\users\\cam\\appdata\\local\\programs\\python\\python312\\lib\\site-packages (from qiskit) (4.12.2)\n",
      "Requirement already satisfied: symengine>=0.11 in c:\\users\\cam\\appdata\\local\\programs\\python\\python312\\lib\\site-packages (from qiskit) (0.11.0)\n",
      "Requirement already satisfied: six>=1.5 in c:\\users\\cam\\appdata\\local\\programs\\python\\python312\\lib\\site-packages (from python-dateutil>=2.8.0->qiskit) (1.16.0)\n",
      "Requirement already satisfied: pbr>=2.0.0 in c:\\users\\cam\\appdata\\local\\programs\\python\\python312\\lib\\site-packages (from stevedore>=3.0.0->qiskit) (6.1.0)\n",
      "Requirement already satisfied: mpmath<1.4,>=1.1.0 in c:\\users\\cam\\appdata\\local\\programs\\python\\python312\\lib\\site-packages (from sympy>=1.3->qiskit) (1.3.0)\n"
     ]
    }
   ],
   "source": [
    "pip install qiskit"
   ]
  },
  {
   "cell_type": "code",
   "execution_count": 12,
   "id": "1b62e0ae-9630-4365-ad98-ef34cb172df7",
   "metadata": {
    "scrolled": true
   },
   "outputs": [
    {
     "name": "stdout",
     "output_type": "stream",
     "text": [
      "Requirement already satisfied: matplotlib in c:\\users\\cam\\appdata\\local\\programs\\python\\python312\\lib\\site-packages (3.9.2)\n",
      "Requirement already satisfied: contourpy>=1.0.1 in c:\\users\\cam\\appdata\\local\\programs\\python\\python312\\lib\\site-packages (from matplotlib) (1.3.0)\n",
      "Requirement already satisfied: cycler>=0.10 in c:\\users\\cam\\appdata\\local\\programs\\python\\python312\\lib\\site-packages (from matplotlib) (0.12.1)\n",
      "Requirement already satisfied: fonttools>=4.22.0 in c:\\users\\cam\\appdata\\local\\programs\\python\\python312\\lib\\site-packages (from matplotlib) (4.53.1)\n",
      "Requirement already satisfied: kiwisolver>=1.3.1 in c:\\users\\cam\\appdata\\local\\programs\\python\\python312\\lib\\site-packages (from matplotlib) (1.4.7)\n",
      "Requirement already satisfied: numpy>=1.23 in c:\\users\\cam\\appdata\\local\\programs\\python\\python312\\lib\\site-packages (from matplotlib) (1.26.4)\n",
      "Requirement already satisfied: packaging>=20.0 in c:\\users\\cam\\appdata\\local\\programs\\python\\python312\\lib\\site-packages (from matplotlib) (24.1)\n",
      "Requirement already satisfied: pillow>=8 in c:\\users\\cam\\appdata\\local\\programs\\python\\python312\\lib\\site-packages (from matplotlib) (10.4.0)\n",
      "Requirement already satisfied: pyparsing>=2.3.1 in c:\\users\\cam\\appdata\\local\\programs\\python\\python312\\lib\\site-packages (from matplotlib) (3.1.4)\n",
      "Requirement already satisfied: python-dateutil>=2.7 in c:\\users\\cam\\appdata\\local\\programs\\python\\python312\\lib\\site-packages (from matplotlib) (2.9.0.post0)\n",
      "Requirement already satisfied: six>=1.5 in c:\\users\\cam\\appdata\\local\\programs\\python\\python312\\lib\\site-packages (from python-dateutil>=2.7->matplotlib) (1.16.0)\n",
      "Note: you may need to restart the kernel to use updated packages.\n"
     ]
    }
   ],
   "source": [
    "pip install matplotlib"
   ]
  },
  {
   "cell_type": "code",
   "execution_count": 13,
   "id": "771f57f9-bf72-42d0-a9dd-04cf839006ff",
   "metadata": {
    "scrolled": true
   },
   "outputs": [
    {
     "name": "stdout",
     "output_type": "stream",
     "text": [
      "Requirement already satisfied: qiskit_aer in c:\\users\\cam\\appdata\\local\\programs\\python\\python312\\lib\\site-packages (0.15.0)\n",
      "Requirement already satisfied: qiskit>=1.1.0 in c:\\users\\cam\\appdata\\local\\programs\\python\\python312\\lib\\site-packages (from qiskit_aer) (1.2.0)\n",
      "Requirement already satisfied: numpy>=1.16.3 in c:\\users\\cam\\appdata\\local\\programs\\python\\python312\\lib\\site-packages (from qiskit_aer) (1.26.4)\n",
      "Requirement already satisfied: scipy>=1.0 in c:\\users\\cam\\appdata\\local\\programs\\python\\python312\\lib\\site-packages (from qiskit_aer) (1.14.1)\n",
      "Requirement already satisfied: psutil>=5 in c:\\users\\cam\\appdata\\local\\programs\\python\\python312\\lib\\site-packages (from qiskit_aer) (6.0.0)\n",
      "Requirement already satisfied: rustworkx>=0.15.0 in c:\\users\\cam\\appdata\\local\\programs\\python\\python312\\lib\\site-packages (from qiskit>=1.1.0->qiskit_aer) (0.15.1)\n",
      "Requirement already satisfied: sympy>=1.3 in c:\\users\\cam\\appdata\\local\\programs\\python\\python312\\lib\\site-packages (from qiskit>=1.1.0->qiskit_aer) (1.13.2)\n",
      "Requirement already satisfied: dill>=0.3 in c:\\users\\cam\\appdata\\local\\programs\\python\\python312\\lib\\site-packages (from qiskit>=1.1.0->qiskit_aer) (0.3.8)\n",
      "Requirement already satisfied: python-dateutil>=2.8.0 in c:\\users\\cam\\appdata\\local\\programs\\python\\python312\\lib\\site-packages (from qiskit>=1.1.0->qiskit_aer) (2.9.0.post0)\n",
      "Requirement already satisfied: stevedore>=3.0.0 in c:\\users\\cam\\appdata\\local\\programs\\python\\python312\\lib\\site-packages (from qiskit>=1.1.0->qiskit_aer) (5.3.0)\n",
      "Requirement already satisfied: typing-extensions in c:\\users\\cam\\appdata\\local\\programs\\python\\python312\\lib\\site-packages (from qiskit>=1.1.0->qiskit_aer) (4.12.2)\n",
      "Requirement already satisfied: symengine>=0.11 in c:\\users\\cam\\appdata\\local\\programs\\python\\python312\\lib\\site-packages (from qiskit>=1.1.0->qiskit_aer) (0.11.0)\n",
      "Requirement already satisfied: six>=1.5 in c:\\users\\cam\\appdata\\local\\programs\\python\\python312\\lib\\site-packages (from python-dateutil>=2.8.0->qiskit>=1.1.0->qiskit_aer) (1.16.0)\n",
      "Requirement already satisfied: pbr>=2.0.0 in c:\\users\\cam\\appdata\\local\\programs\\python\\python312\\lib\\site-packages (from stevedore>=3.0.0->qiskit>=1.1.0->qiskit_aer) (6.1.0)\n",
      "Requirement already satisfied: mpmath<1.4,>=1.1.0 in c:\\users\\cam\\appdata\\local\\programs\\python\\python312\\lib\\site-packages (from sympy>=1.3->qiskit>=1.1.0->qiskit_aer) (1.3.0)\n",
      "Note: you may need to restart the kernel to use updated packages.\n"
     ]
    }
   ],
   "source": [
    "pip install qiskit_aer"
   ]
  },
  {
   "cell_type": "code",
   "execution_count": 14,
   "id": "ad0dd8cf-4b97-473c-89a9-2ddb0af2ca46",
   "metadata": {},
   "outputs": [
    {
     "name": "stdout",
     "output_type": "stream",
     "text": [
      "Requirement already satisfied: pylatexenc in c:\\users\\cam\\appdata\\local\\programs\\python\\python312\\lib\\site-packages (2.10)\n",
      "Note: you may need to restart the kernel to use updated packages.\n"
     ]
    }
   ],
   "source": [
    "pip install pylatexenc"
   ]
  },
  {
   "cell_type": "code",
   "execution_count": 1,
   "id": "fa69acc4-a892-40b8-89de-7d81a93b4944",
   "metadata": {
    "scrolled": true
   },
   "outputs": [
    {
     "ename": "ImportError",
     "evalue": "cannot import name 'QiskitBackendNotFoundError' from 'qiskit.providers' (unknown location)",
     "output_type": "error",
     "traceback": [
      "\u001b[1;31m---------------------------------------------------------------------------\u001b[0m",
      "\u001b[1;31mImportError\u001b[0m                               Traceback (most recent call last)",
      "Cell \u001b[1;32mIn[1], line 1\u001b[0m\n\u001b[1;32m----> 1\u001b[0m \u001b[38;5;28;01mfrom\u001b[39;00m \u001b[38;5;21;01mqiskit_aer\u001b[39;00m \u001b[38;5;28;01mimport\u001b[39;00m Aer\n\u001b[0;32m      2\u001b[0m \u001b[38;5;28;01mimport\u001b[39;00m \u001b[38;5;21;01mnumpy\u001b[39;00m \u001b[38;5;28;01mas\u001b[39;00m \u001b[38;5;21;01mnp\u001b[39;00m\n\u001b[0;32m      3\u001b[0m \u001b[38;5;28;01mimport\u001b[39;00m \u001b[38;5;21;01mmatplotlib\u001b[39;00m\u001b[38;5;21;01m.\u001b[39;00m\u001b[38;5;21;01mpyplot\u001b[39;00m \u001b[38;5;28;01mas\u001b[39;00m \u001b[38;5;21;01mplt\u001b[39;00m \n",
      "File \u001b[1;32m~\\AppData\\Local\\Programs\\Python\\Python312\\Lib\\site-packages\\qiskit_aer\\__init__.py:69\u001b[0m\n\u001b[0;32m     65\u001b[0m     np\u001b[38;5;241m.\u001b[39mdot(np\u001b[38;5;241m.\u001b[39mzeros(\u001b[38;5;241m100\u001b[39m), np\u001b[38;5;241m.\u001b[39mzeros(\u001b[38;5;241m100\u001b[39m))\n\u001b[0;32m     66\u001b[0m \u001b[38;5;66;03m# ... ¯\\_(ツ)_/¯\u001b[39;00m\n\u001b[0;32m     67\u001b[0m \n\u001b[0;32m     68\u001b[0m \u001b[38;5;66;03m# pylint: disable=wrong-import-position\u001b[39;00m\n\u001b[1;32m---> 69\u001b[0m \u001b[38;5;28;01mfrom\u001b[39;00m \u001b[38;5;21;01mqiskit_aer\u001b[39;00m\u001b[38;5;21;01m.\u001b[39;00m\u001b[38;5;21;01maerprovider\u001b[39;00m \u001b[38;5;28;01mimport\u001b[39;00m AerProvider\n\u001b[0;32m     70\u001b[0m \u001b[38;5;28;01mfrom\u001b[39;00m \u001b[38;5;21;01mqiskit_aer\u001b[39;00m\u001b[38;5;21;01m.\u001b[39;00m\u001b[38;5;21;01mjobs\u001b[39;00m \u001b[38;5;28;01mimport\u001b[39;00m AerJob\n\u001b[0;32m     71\u001b[0m \u001b[38;5;28;01mfrom\u001b[39;00m \u001b[38;5;21;01mqiskit_aer\u001b[39;00m\u001b[38;5;21;01m.\u001b[39;00m\u001b[38;5;21;01maererror\u001b[39;00m \u001b[38;5;28;01mimport\u001b[39;00m AerError\n",
      "File \u001b[1;32m~\\AppData\\Local\\Programs\\Python\\Python312\\Lib\\site-packages\\qiskit_aer\\aerprovider.py:17\u001b[0m\n\u001b[0;32m      1\u001b[0m \u001b[38;5;66;03m# This code is part of Qiskit.\u001b[39;00m\n\u001b[0;32m      2\u001b[0m \u001b[38;5;66;03m#\u001b[39;00m\n\u001b[0;32m      3\u001b[0m \u001b[38;5;66;03m# (C) Copyright IBM 2018, 2019.\u001b[39;00m\n\u001b[1;32m   (...)\u001b[0m\n\u001b[0;32m     12\u001b[0m \n\u001b[0;32m     13\u001b[0m \u001b[38;5;66;03m# pylint: disable=invalid-name\u001b[39;00m\n\u001b[0;32m     14\u001b[0m \u001b[38;5;124;03m\"\"\"Provider for Aer backends.\"\"\"\u001b[39;00m\n\u001b[1;32m---> 17\u001b[0m \u001b[38;5;28;01mfrom\u001b[39;00m \u001b[38;5;21;01mqiskit\u001b[39;00m\u001b[38;5;21;01m.\u001b[39;00m\u001b[38;5;21;01mproviders\u001b[39;00m \u001b[38;5;28;01mimport\u001b[39;00m QiskitBackendNotFoundError\n\u001b[0;32m     18\u001b[0m \u001b[38;5;28;01mfrom\u001b[39;00m \u001b[38;5;21;01mqiskit\u001b[39;00m\u001b[38;5;21;01m.\u001b[39;00m\u001b[38;5;21;01mproviders\u001b[39;00m\u001b[38;5;21;01m.\u001b[39;00m\u001b[38;5;21;01mproviderutils\u001b[39;00m \u001b[38;5;28;01mimport\u001b[39;00m filter_backends\n\u001b[0;32m     20\u001b[0m \u001b[38;5;28;01mfrom\u001b[39;00m \u001b[38;5;21;01m.\u001b[39;00m\u001b[38;5;21;01mbackends\u001b[39;00m\u001b[38;5;21;01m.\u001b[39;00m\u001b[38;5;21;01maer_simulator\u001b[39;00m \u001b[38;5;28;01mimport\u001b[39;00m AerSimulator\n",
      "\u001b[1;31mImportError\u001b[0m: cannot import name 'QiskitBackendNotFoundError' from 'qiskit.providers' (unknown location)"
     ]
    }
   ],
   "source": [
    "from qiskit_aer import Aer\n",
    "import numpy as np\n",
    "import matplotlib.pyplot as plt \n",
    "from qiskit import * #qiskit\n",
    "from qiskit.visualization import plot_histogram, plot_bloch_multivector, array_to_latex\n",
    "from qiskit import QuantumCircuit, QuantumRegister, transpile\n",
    "from qiskit.quantum_info import random_statevector\n",
    "from qiskit.quantum_info import partial_trace, entropy\n",
    "import qiskit.quantum_info as qi\n",
    "\n",
    "from IPython.display import HTML, display"
   ]
  },
  {
   "cell_type": "code",
   "execution_count": null,
   "id": "97ecec67-fb52-4f63-bc83-0faf1628d193",
   "metadata": {},
   "outputs": [],
   "source": [
    "pip uninstall qiskit"
   ]
  },
  {
   "cell_type": "code",
   "execution_count": null,
   "id": "e19329d6-5e6d-4cee-85a0-0821ba932726",
   "metadata": {},
   "outputs": [],
   "source": [
    "pip uninstall qiskit_aer"
   ]
  },
  {
   "cell_type": "code",
   "execution_count": 1,
   "id": "1e8e243e-ce75-4fef-938f-64b8080fca31",
   "metadata": {},
   "outputs": [
    {
     "name": "stdout",
     "output_type": "stream",
     "text": [
      "Collecting qiskit\n",
      "  Downloading qiskit-1.2.1-cp38-abi3-win_amd64.whl.metadata (13 kB)\n",
      "Requirement already satisfied: rustworkx>=0.15.0 in c:\\users\\cam\\appdata\\local\\programs\\python\\python312\\lib\\site-packages (from qiskit) (0.15.1)\n",
      "Requirement already satisfied: numpy<3,>=1.17 in c:\\users\\cam\\appdata\\local\\programs\\python\\python312\\lib\\site-packages (from qiskit) (1.26.4)\n",
      "Requirement already satisfied: scipy>=1.5 in c:\\users\\cam\\appdata\\local\\programs\\python\\python312\\lib\\site-packages (from qiskit) (1.14.1)\n",
      "Requirement already satisfied: sympy>=1.3 in c:\\users\\cam\\appdata\\local\\programs\\python\\python312\\lib\\site-packages (from qiskit) (1.13.2)\n",
      "Requirement already satisfied: dill>=0.3 in c:\\users\\cam\\appdata\\local\\programs\\python\\python312\\lib\\site-packages (from qiskit) (0.3.8)\n",
      "Requirement already satisfied: python-dateutil>=2.8.0 in c:\\users\\cam\\appdata\\local\\programs\\python\\python312\\lib\\site-packages (from qiskit) (2.9.0.post0)\n",
      "Requirement already satisfied: stevedore>=3.0.0 in c:\\users\\cam\\appdata\\local\\programs\\python\\python312\\lib\\site-packages (from qiskit) (5.3.0)\n",
      "Requirement already satisfied: typing-extensions in c:\\users\\cam\\appdata\\local\\programs\\python\\python312\\lib\\site-packages (from qiskit) (4.12.2)\n",
      "Requirement already satisfied: symengine>=0.11 in c:\\users\\cam\\appdata\\local\\programs\\python\\python312\\lib\\site-packages (from qiskit) (0.11.0)\n",
      "Requirement already satisfied: six>=1.5 in c:\\users\\cam\\appdata\\local\\programs\\python\\python312\\lib\\site-packages (from python-dateutil>=2.8.0->qiskit) (1.16.0)\n",
      "Requirement already satisfied: pbr>=2.0.0 in c:\\users\\cam\\appdata\\local\\programs\\python\\python312\\lib\\site-packages (from stevedore>=3.0.0->qiskit) (6.1.0)\n",
      "Requirement already satisfied: mpmath<1.4,>=1.1.0 in c:\\users\\cam\\appdata\\local\\programs\\python\\python312\\lib\\site-packages (from sympy>=1.3->qiskit) (1.3.0)\n",
      "Downloading qiskit-1.2.1-cp38-abi3-win_amd64.whl (4.6 MB)\n",
      "   ---------------------------------------- 0.0/4.6 MB ? eta -:--:--\n",
      "   ----------------------------- ---------- 3.4/4.6 MB 18.3 MB/s eta 0:00:01\n",
      "   ---------------------------------------- 4.6/4.6 MB 17.3 MB/s eta 0:00:00\n",
      "Installing collected packages: qiskit\n",
      "Successfully installed qiskit-1.2.1\n",
      "Note: you may need to restart the kernel to use updated packages.\n"
     ]
    }
   ],
   "source": [
    "pip install qiskit"
   ]
  },
  {
   "cell_type": "code",
   "execution_count": 2,
   "id": "c1efb012-a62d-4f77-a030-269c0ffef48f",
   "metadata": {},
   "outputs": [
    {
     "name": "stdout",
     "output_type": "stream",
     "text": [
      "Collecting qiskit_aer\n",
      "  Downloading qiskit_aer-0.15.1-cp312-cp312-win_amd64.whl.metadata (8.2 kB)\n",
      "Requirement already satisfied: qiskit>=1.1.0 in c:\\users\\cam\\appdata\\local\\programs\\python\\python312\\lib\\site-packages (from qiskit_aer) (1.2.1)\n",
      "Requirement already satisfied: numpy>=1.16.3 in c:\\users\\cam\\appdata\\local\\programs\\python\\python312\\lib\\site-packages (from qiskit_aer) (1.26.4)\n",
      "Requirement already satisfied: scipy>=1.0 in c:\\users\\cam\\appdata\\local\\programs\\python\\python312\\lib\\site-packages (from qiskit_aer) (1.14.1)\n",
      "Requirement already satisfied: psutil>=5 in c:\\users\\cam\\appdata\\local\\programs\\python\\python312\\lib\\site-packages (from qiskit_aer) (6.0.0)\n",
      "Requirement already satisfied: rustworkx>=0.15.0 in c:\\users\\cam\\appdata\\local\\programs\\python\\python312\\lib\\site-packages (from qiskit>=1.1.0->qiskit_aer) (0.15.1)\n",
      "Requirement already satisfied: sympy>=1.3 in c:\\users\\cam\\appdata\\local\\programs\\python\\python312\\lib\\site-packages (from qiskit>=1.1.0->qiskit_aer) (1.13.2)\n",
      "Requirement already satisfied: dill>=0.3 in c:\\users\\cam\\appdata\\local\\programs\\python\\python312\\lib\\site-packages (from qiskit>=1.1.0->qiskit_aer) (0.3.8)\n",
      "Requirement already satisfied: python-dateutil>=2.8.0 in c:\\users\\cam\\appdata\\local\\programs\\python\\python312\\lib\\site-packages (from qiskit>=1.1.0->qiskit_aer) (2.9.0.post0)\n",
      "Requirement already satisfied: stevedore>=3.0.0 in c:\\users\\cam\\appdata\\local\\programs\\python\\python312\\lib\\site-packages (from qiskit>=1.1.0->qiskit_aer) (5.3.0)\n",
      "Requirement already satisfied: typing-extensions in c:\\users\\cam\\appdata\\local\\programs\\python\\python312\\lib\\site-packages (from qiskit>=1.1.0->qiskit_aer) (4.12.2)\n",
      "Requirement already satisfied: symengine>=0.11 in c:\\users\\cam\\appdata\\local\\programs\\python\\python312\\lib\\site-packages (from qiskit>=1.1.0->qiskit_aer) (0.11.0)\n",
      "Requirement already satisfied: six>=1.5 in c:\\users\\cam\\appdata\\local\\programs\\python\\python312\\lib\\site-packages (from python-dateutil>=2.8.0->qiskit>=1.1.0->qiskit_aer) (1.16.0)\n",
      "Requirement already satisfied: pbr>=2.0.0 in c:\\users\\cam\\appdata\\local\\programs\\python\\python312\\lib\\site-packages (from stevedore>=3.0.0->qiskit>=1.1.0->qiskit_aer) (6.1.0)\n",
      "Requirement already satisfied: mpmath<1.4,>=1.1.0 in c:\\users\\cam\\appdata\\local\\programs\\python\\python312\\lib\\site-packages (from sympy>=1.3->qiskit>=1.1.0->qiskit_aer) (1.3.0)\n",
      "Downloading qiskit_aer-0.15.1-cp312-cp312-win_amd64.whl (9.5 MB)\n",
      "   ---------------------------------------- 0.0/9.5 MB ? eta -:--:--\n",
      "   ------- -------------------------------- 1.8/9.5 MB 10.1 MB/s eta 0:00:01\n",
      "   ------------------ --------------------- 4.5/9.5 MB 11.7 MB/s eta 0:00:01\n",
      "   -------------------------- ------------- 6.3/9.5 MB 10.7 MB/s eta 0:00:01\n",
      "   --------------------------------- ------ 7.9/9.5 MB 9.9 MB/s eta 0:00:01\n",
      "   ---------------------------------------- 9.5/9.5 MB 9.4 MB/s eta 0:00:00\n",
      "Installing collected packages: qiskit_aer\n",
      "Successfully installed qiskit_aer-0.15.1\n",
      "Note: you may need to restart the kernel to use updated packages.\n"
     ]
    }
   ],
   "source": [
    "pip install qiskit_aer"
   ]
  },
  {
   "cell_type": "code",
   "execution_count": 3,
   "id": "cc68e796-f154-41b9-a099-0f4ddc685137",
   "metadata": {},
   "outputs": [],
   "source": [
    "from qiskit_aer import Aer"
   ]
  },
  {
   "cell_type": "code",
   "execution_count": 2,
   "id": "e79a0747-511b-4816-8a79-f96dad3f8053",
   "metadata": {},
   "outputs": [],
   "source": [
    "import numpy as np\n",
    "import matplotlib.pyplot as plt \n",
    "from qiskit import * #qiskit\n",
    "from qiskit.visualization import plot_histogram, plot_bloch_multivector, array_to_latex\n",
    "from qiskit import QuantumCircuit, QuantumRegister, transpile\n",
    "from qiskit.quantum_info import random_statevector\n",
    "from qiskit.quantum_info import partial_trace, entropy\n",
    "import qiskit.quantum_info as qi\n",
    "\n",
    "from IPython.display import HTML, display"
   ]
  },
  {
   "cell_type": "code",
   "execution_count": 6,
   "id": "65314e7b-5251-410f-a00d-9d81086f1702",
   "metadata": {},
   "outputs": [
    {
     "ename": "SyntaxError",
     "evalue": "invalid non-printable character U+2002 (1915141514.py, line 4)",
     "output_type": "error",
     "traceback": [
      "\u001b[1;36m  Cell \u001b[1;32mIn[6], line 4\u001b[1;36m\u001b[0m\n\u001b[1;33m    #job = simulator.run(temp_circuit, shots = shots)\u001b[0m\n\u001b[1;37m    ^\u001b[0m\n\u001b[1;31mSyntaxError\u001b[0m\u001b[1;31m:\u001b[0m invalid non-printable character U+2002\n"
     ]
    }
   ],
   "source": [
    "#replace \"job = execute(qc0, simulator, shots=shots) with following:\"n_qubit = 1\n",
    "\n",
    "      #temp_circuit = transpile(qc0, simulator)\n",
    "      #job  simulator.run(temp_circuit, shots = shots)"
   ]
  },
  {
   "cell_type": "code",
   "execution_count": 10,
   "id": "e5f60d6f-1560-4c30-b144-baf517c1b2f3",
   "metadata": {},
   "outputs": [],
   "source": [
    "simulator = Aer.get_backend('qasm_simulator')"
   ]
  },
  {
   "cell_type": "code",
   "execution_count": 7,
   "id": "896d572c-409c-446a-aa13-2f0ebf083b58",
   "metadata": {},
   "outputs": [
    {
     "data": {
      "image/png": "[encoded data removed]",
      "text/plain": [
       "<Figure size 161.878x200.667 with 1 Axes>"
      ]
     },
     "execution_count": 7,
     "metadata": {},
     "output_type": "execute_result"
    }
   ],
   "source": [
    "n_qubit = 1\n",
    "qr0 = QuantumRegister(n_qubit)\n",
    "cr0 = ClassicalRegister(n_qubit) #classical register to store resulting bits\n",
    "qc0 = QuantumCircuit(qr0,cr0) #quantum circuit with quantum and classical registers\n",
    "\n",
    "qc0.draw('mpl')"
   ]
  },
  {
   "cell_type": "code",
   "execution_count": 11,
   "id": "3f1ffe35-b14d-48e1-ab58-5eb131f06bdf",
   "metadata": {},
   "outputs": [
    {
     "data": {
      "image/png": "[encoded data removed]",
      "text/plain": [
       "<Figure size 640x480 with 1 Axes>"
      ]
     },
     "execution_count": 11,
     "metadata": {},
     "output_type": "execute_result"
    }
   ],
   "source": [
    "qc0.measure(qr0,cr0)\n",
    "\n",
    "# shots is number of execution\n",
    "shots=1000\n",
    "\n",
    "# execute the circuit\n",
    "temp_circuit = transpile(qc0, simulator)\n",
    "job = simulator.run(temp_circuit, shots = shots)\n",
    "\n",
    "# get a result\n",
    "result = job.result() \n",
    "\n",
    "# get counts to obtain each bit string\n",
    "counts = result.get_counts(qc0) \n",
    "\n",
    "# plot histogram\n",
    "plot_histogram(counts) \n",
    "\n",
    "\n",
    "\n"
   ]
  },
  {
   "cell_type": "code",
   "execution_count": 13,
   "id": "4ba49473-fe52-451a-9d68-76fdbac53177",
   "metadata": {},
   "outputs": [
    {
     "data": {
      "image/png": "[encoded data removed]",
      "text/plain": [
       "<Figure size 640x480 with 1 Axes>"
      ]
     },
     "execution_count": 13,
     "metadata": {},
     "output_type": "execute_result"
    }
   ],
   "source": [
    "qc0.measure(qr0,cr0)\n",
    "\n",
    "# shots is number of execution\n",
    "shots=100000\n",
    "\n",
    "# execute the circuit\n",
    "temp_circuit = transpile(qc0, simulator)\n",
    "job = simulator.run(temp_circuit, shots = shots) \n",
    "\n",
    "# get a result\n",
    "result = job.result() \n",
    "\n",
    "# get counts to obtain each bit string\n",
    "counts = result.get_counts(qc0) \n",
    "\n",
    "# plot histogram\n",
    "plot_histogram(counts) "
   ]
  },
  {
   "cell_type": "code",
   "execution_count": 61,
   "id": "95d9d5f0-9918-4431-be8c-3a3f6caecbb2",
   "metadata": {},
   "outputs": [
    {
     "data": {
      "image/png": "[encoded data removed]",
      "text/plain": [
       "<Figure size 305.727x200.667 with 1 Axes>"
      ]
     },
     "execution_count": 61,
     "metadata": {},
     "output_type": "execute_result"
    }
   ],
   "source": [
    "#Exercise 2\n",
    "from math import pi\n",
    "\n",
    "n_qubit = 1\n",
    "qr2 = QuantumRegister(n_qubit)\n",
    "cr2 = ClassicalRegister(n_qubit) #classical register to store resulting bits\n",
    "qc2 = QuantumCircuit(qr2,cr2) #quantum circuit with quantum and classical registers\n",
    "\n",
    "qc2.h(qr2[0])\n",
    "qc2.u(0,-pi/2,0,qr2)\n",
    "qc2.draw()\n",
    "\n",
    "qc2.draw('mpl')\n"
   ]
  },
  {
   "cell_type": "code",
   "execution_count": 62,
   "id": "be33515c-a5c1-4ef9-8520-6559b80466cc",
   "metadata": {},
   "outputs": [
    {
     "data": {
      "image/png": "[encoded data removed]",
      "text/plain": [
       "<Figure size 640x480 with 1 Axes>"
      ]
     },
     "execution_count": 62,
     "metadata": {},
     "output_type": "execute_result"
    }
   ],
   "source": [
    "#histogram of qr2, unitary matrix rotation for u applied to zero state.\n",
    "qc2.measure(qr2,cr2)\n",
    "\n",
    "shots=100000\n",
    "\n",
    "# execute the circuit\n",
    "temp_circuit = transpile(qc2, simulator)\n",
    "job = simulator.run(temp_circuit, shots = shots) \n",
    "\n",
    "# get a result\n",
    "result = job.result() \n",
    "\n",
    "# get counts to obtain each bit string\n",
    "counts = result.get_counts(qc2) \n",
    "\n",
    "# plot histogram\n",
    "plot_histogram(counts) "
   ]
  },
  {
   "cell_type": "code",
   "execution_count": 14,
   "id": "44a243b0-dd52-456e-bac8-60fa73c7a5d0",
   "metadata": {},
   "outputs": [
    {
     "data": {
      "image/png": "[encoded data removed]",
      "text/plain": [
       "<Figure size 203.885x200.667 with 1 Axes>"
      ]
     },
     "execution_count": 14,
     "metadata": {},
     "output_type": "execute_result"
    }
   ],
   "source": [
    "n_qubit = 1\n",
    "qr1 = QuantumRegister(n_qubit)\n",
    "cr1 = ClassicalRegister(n_qubit) #classical register to store resulting bits\n",
    "qc1 = QuantumCircuit(qr1,cr1) #quantum circuit with quantum and classical registers\n",
    "\n",
    "qc1.h(qr1[0])\n",
    "\n",
    "qc1.draw('mpl')"
   ]
  },
  {
   "cell_type": "code",
   "execution_count": 16,
   "id": "b5d735cd-079c-4da2-a923-fd3a271d74fe",
   "metadata": {},
   "outputs": [
    {
     "data": {
      "image/png": "[encoded data removed]",
      "text/plain": [
       "<Figure size 640x480 with 1 Axes>"
      ]
     },
     "execution_count": 16,
     "metadata": {},
     "output_type": "execute_result"
    }
   ],
   "source": [
    "qc1.measure(qr1,cr1)\n",
    "\n",
    "# shots is number of execution\n",
    "shots=100000\n",
    "\n",
    "# execute the circuit\n",
    "temp_circuit = transpile(qc1, simulator)\n",
    "job = simulator.run(temp_circuit, shots = shots) \n",
    "\n",
    "# get a result\n",
    "result = job.result() \n",
    "\n",
    "# get counts to obtain each bit string\n",
    "counts = result.get_counts(qc1) \n",
    "\n",
    "\n",
    "# plot histogram\n",
    "plot_histogram(counts) "
   ]
  },
  {
   "cell_type": "code",
   "execution_count": 17,
   "id": "886a6a2d-34da-4dc9-9609-cb0c39e49962",
   "metadata": {},
   "outputs": [
    {
     "data": {
      "image/png": "[encoded data removed]",
      "text/plain": [
       "<Figure size 203.885x200.667 with 1 Axes>"
      ]
     },
     "execution_count": 17,
     "metadata": {},
     "output_type": "execute_result"
    }
   ],
   "source": [
    "from math import pi\n",
    "\n",
    "n_qubit = 1\n",
    "qr2 = QuantumRegister(n_qubit)\n",
    "cr2 = ClassicalRegister(n_qubit) #classical register to store resulting bits\n",
    "qc2 = QuantumCircuit(qr2,cr2) #quantum circuit with quantum and classical registers\n",
    "\n",
    "qc2.u(pi,pi/2,0,qr2) # U(\\theta,\\phi,\\lambda)\n",
    "qc2.draw()\n",
    "\n",
    "qc2.draw('mpl')"
   ]
  },
  {
   "cell_type": "code",
   "execution_count": 18,
   "id": "85c03161-fc05-4cea-a67b-df023f846c1c",
   "metadata": {},
   "outputs": [
    {
     "data": {
      "image/png": "[encoded data removed]",
      "text/plain": [
       "<Figure size 180.31x284.278 with 1 Axes>"
      ]
     },
     "execution_count": 18,
     "metadata": {},
     "output_type": "execute_result"
    }
   ],
   "source": [
    "n_qubit = 2\n",
    "qr3 = QuantumRegister(n_qubit)\n",
    "cr3 = ClassicalRegister(n_qubit) #classical register to store resulting bits\n",
    "qc3 = QuantumCircuit(qr3,cr3) #quantum circuit with quantum and classical registers\n",
    "\n",
    "qc3.draw('mpl')"
   ]
  },
  {
   "cell_type": "code",
   "execution_count": 19,
   "id": "69143834-c27a-4898-ab51-867eef90e307",
   "metadata": {},
   "outputs": [
    {
     "data": {
      "image/png": "[encoded data removed]",
      "text/plain": [
       "<Figure size 222.116x284.278 with 1 Axes>"
      ]
     },
     "execution_count": 19,
     "metadata": {},
     "output_type": "execute_result"
    }
   ],
   "source": [
    "n_qubit = 2\n",
    "qr4 = QuantumRegister(n_qubit)\n",
    "cr4 = ClassicalRegister(n_qubit) #classical register to store resulting bits\n",
    "qc4 = QuantumCircuit(qr4,cr4) #quantum circuit with quantum and classical registers\n",
    "qc4.cx(qr4[0],qr4[1])\n",
    "\n",
    "qc4.draw('mpl')"
   ]
  },
  {
   "cell_type": "code",
   "execution_count": 89,
   "id": "724e33f2-d5f4-4540-8fb6-a1a2cf37d4a1",
   "metadata": {},
   "outputs": [
    {
     "name": "stdout",
     "output_type": "stream",
     "text": [
      "[0.70710678 0.         0.         0.70710678]\n"
     ]
    }
   ],
   "source": [
    "#phi+ array print\n",
    "from numpy import array\n",
    "a=np.array([1,0,0,1])\n",
    "phiplus=np.dot(np.sqrt(1/2),(a))\n",
    "print(phiplus)\n"
   ]
  },
  {
   "cell_type": "code",
   "execution_count": 26,
   "id": "708bea15-5ab2-4682-b28c-f2c53cc9a063",
   "metadata": {},
   "outputs": [
    {
     "data": {
      "image/png": "[encoded data removed]",
      "text/plain": [
       "<Figure size 407.367x284.278 with 1 Axes>"
      ]
     },
     "execution_count": 26,
     "metadata": {},
     "output_type": "execute_result"
    }
   ],
   "source": [
    "#minus Psi bell state\n",
    "n_qubit = 2\n",
    "qr5 = QuantumRegister(n_qubit)\n",
    "cr5 = ClassicalRegister(n_qubit) #classical register to store resulting bits\n",
    "qc5 = QuantumCircuit(qr5,cr5) #quantum circuit with quantum and classical registers\n",
    "\n",
    "qc5.x(qr5[1]) #flip 0 state into 1 state using x pauli matrix\n",
    "qc5.h(qr5[0]) #hadmard gate to turn 0 state into + state\n",
    "qc5.z(qr5[0]) #z pauli matrix changes measurement basis\n",
    "qc5.z(qr5[1]) #z pauli matrix turns 1 state into -(1) state\n",
    "qc5.cx(qr5[0],qr5[1]) #cnot to -(1) state\n",
    "\n",
    "\n",
    "qc5.draw('mpl')"
   ]
  },
  {
   "cell_type": "code",
   "execution_count": 30,
   "id": "6c4ea6da-768c-4dc9-b159-3ac57e138e83",
   "metadata": {},
   "outputs": [
    {
     "data": {
      "image/png": "[encoded data removed]",
      "text/plain": [
       "<Figure size 407.569x284.278 with 1 Axes>"
      ]
     },
     "execution_count": 30,
     "metadata": {},
     "output_type": "execute_result"
    }
   ],
   "source": [
    "#minus Phi bell state\n",
    "n_qubit = 2\n",
    "qr5 = QuantumRegister(n_qubit)\n",
    "cr5 = ClassicalRegister(n_qubit) #classical register to store resulting bits\n",
    "qc5 = QuantumCircuit(qr5,cr5) #quantum circuit with quantum and classical registers\n",
    "\n",
    "\n",
    "qc5.x(qr5[0]) #flip 0 state into 1 state using x pauli matrix\n",
    "qc5.h(qr5[0]) #apply hadamrd gate operation to 1 state to create minus state\n",
    "qc5.cx(qr5[0],qr5[1]) #apply cnot gate to 0 state\n",
    "\n",
    "qc5.draw('mpl')"
   ]
  },
  {
   "cell_type": "code",
   "execution_count": 25,
   "id": "62f91afa-2cd0-4d8c-90d9-0da5dc401ba2",
   "metadata": {},
   "outputs": [
    {
     "data": {
      "image/png": "[encoded data removed]",
      "text/plain": [
       "<Figure size 323.958x284.278 with 1 Axes>"
      ]
     },
     "execution_count": 25,
     "metadata": {},
     "output_type": "execute_result"
    }
   ],
   "source": [
    "#plus psi bell state\n",
    "\n",
    "n_qubit = 2 \n",
    "qr5 = QuantumRegister(n_qubit) \n",
    "cr5 = ClassicalRegister(n_qubit)\n",
    "qc5 = QuantumCircuit(qr5,cr5) \n",
    "\n",
    "\n",
    "qc5.h(qr5[0]) #hadamrd gate opteration to 0 state\n",
    "qc5.x(qr5[1]) #flip 0 state into one state using x pauli matrix\n",
    "qc5.cx(qr5[0],qr5[1]) #apply cnot gate to 1 state\n",
    "\n",
    "qc5.draw('mpl')\n"
   ]
  },
  {
   "cell_type": "code",
   "execution_count": null,
   "id": "d5219540-c62b-4861-b074-a4e95851a753",
   "metadata": {},
   "outputs": [],
   "source": []
  }
 ],
 "metadata": {
  "kernelspec": {
   "display_name": "Python 3 (ipykernel)",
   "language": "python",
   "name": "python3"
  },
  "language_info": {
   "codemirror_mode": {
    "name": "ipython",
    "version": 3
   },
   "file_extension": ".py",
   "mimetype": "text/x-python",
   "name": "python",
   "nbconvert_exporter": "python",
   "pygments_lexer": "ipython3",
   "version": "3.12.5"
  }
 },
 "nbformat": 4,
 "nbformat_minor": 5
}
